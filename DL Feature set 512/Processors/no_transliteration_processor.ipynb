{
 "cells": [
  {
   "cell_type": "code",
   "execution_count": 1,
   "metadata": {},
   "outputs": [],
   "source": [
    "import re\n",
    "import emoji\n",
    "import pandas as pd"
   ]
  },
  {
   "cell_type": "code",
   "execution_count": 2,
   "metadata": {},
   "outputs": [],
   "source": [
    "data_dir_1 = \"../Original Data\"\n",
    "data_dir_2 = \"../No trans Data\""
   ]
  },
  {
   "cell_type": "code",
   "execution_count": null,
   "metadata": {},
   "outputs": [
    {
     "data": {
      "text/html": [
       "<div>\n",
       "<style scoped>\n",
       "    .dataframe tbody tr th:only-of-type {\n",
       "        vertical-align: middle;\n",
       "    }\n",
       "\n",
       "    .dataframe tbody tr th {\n",
       "        vertical-align: top;\n",
       "    }\n",
       "\n",
       "    .dataframe thead th {\n",
       "        text-align: right;\n",
       "    }\n",
       "</style>\n",
       "<table border=\"1\" class=\"dataframe\">\n",
       "  <thead>\n",
       "    <tr style=\"text-align: right;\">\n",
       "      <th></th>\n",
       "      <th>id</th>\n",
       "      <th>text</th>\n",
       "      <th>label</th>\n",
       "    </tr>\n",
       "  </thead>\n",
       "  <tbody>\n",
       "    <tr>\n",
       "      <th>0</th>\n",
       "      <td>3268</td>\n",
       "      <td>Indha ariya kandupidippin moolam neenga solla ...</td>\n",
       "      <td>0</td>\n",
       "    </tr>\n",
       "    <tr>\n",
       "      <th>1</th>\n",
       "      <td>6239</td>\n",
       "      <td>@vijayakumarp7959  unmai therincha nee pesu</td>\n",
       "      <td>0</td>\n",
       "    </tr>\n",
       "    <tr>\n",
       "      <th>2</th>\n",
       "      <td>5859</td>\n",
       "      <td>Inga erukka yella dev... boys  vadakkan vadakk...</td>\n",
       "      <td>1</td>\n",
       "    </tr>\n",
       "    <tr>\n",
       "      <th>3</th>\n",
       "      <td>3519</td>\n",
       "      <td>பீகாரி பிரசாந்த் கிஷோரிடம் கொடுத்த 350 கோடியை ...</td>\n",
       "      <td>1</td>\n",
       "    </tr>\n",
       "    <tr>\n",
       "      <th>4</th>\n",
       "      <td>5136</td>\n",
       "      <td>Mumbai Bangalore la 80% percentage outsiders</td>\n",
       "      <td>1</td>\n",
       "    </tr>\n",
       "  </tbody>\n",
       "</table>\n",
       "</div>"
      ],
      "text/plain": [
       "     id                                               text  label\n",
       "0  3268  Indha ariya kandupidippin moolam neenga solla ...      0\n",
       "1  6239        @vijayakumarp7959  unmai therincha nee pesu      0\n",
       "2  5859  Inga erukka yella dev... boys  vadakkan vadakk...      1\n",
       "3  3519  பீகாரி பிரசாந்த் கிஷோரிடம் கொடுத்த 350 கோடியை ...      1\n",
       "4  5136       Mumbai Bangalore la 80% percentage outsiders      1"
      ]
     },
     "execution_count": 3,
     "metadata": {},
     "output_type": "execute_result"
    }
   ],
   "source": [
    "train = pd.read_csv(data_dir_1+'/train.csv')\n",
    "train.head()"
   ]
  },
  {
   "cell_type": "code",
   "execution_count": 4,
   "metadata": {},
   "outputs": [
    {
     "data": {
      "text/html": [
       "<div>\n",
       "<style scoped>\n",
       "    .dataframe tbody tr th:only-of-type {\n",
       "        vertical-align: middle;\n",
       "    }\n",
       "\n",
       "    .dataframe tbody tr th {\n",
       "        vertical-align: top;\n",
       "    }\n",
       "\n",
       "    .dataframe thead th {\n",
       "        text-align: right;\n",
       "    }\n",
       "</style>\n",
       "<table border=\"1\" class=\"dataframe\">\n",
       "  <thead>\n",
       "    <tr style=\"text-align: right;\">\n",
       "      <th></th>\n",
       "      <th>id</th>\n",
       "      <th>text</th>\n",
       "      <th>label</th>\n",
       "    </tr>\n",
       "  </thead>\n",
       "  <tbody>\n",
       "    <tr>\n",
       "      <th>0</th>\n",
       "      <td>650</td>\n",
       "      <td>HOSUR also mini North India bro ,,</td>\n",
       "      <td>0</td>\n",
       "    </tr>\n",
       "    <tr>\n",
       "      <th>1</th>\n",
       "      <td>2397</td>\n",
       "      <td>@rajaa9979  வணிகர் சங்கங்களின் தலைமை தமிழரிடத...</td>\n",
       "      <td>0</td>\n",
       "    </tr>\n",
       "    <tr>\n",
       "      <th>2</th>\n",
       "      <td>1174</td>\n",
       "      <td>Already Telangana becomes Hindi belt 🥺</td>\n",
       "      <td>0</td>\n",
       "    </tr>\n",
       "    <tr>\n",
       "      <th>3</th>\n",
       "      <td>5851</td>\n",
       "      <td>வட மாநிலத்தொழிளார் தமிழ்நாட்டினரரை தாக்கினால் ...</td>\n",
       "      <td>0</td>\n",
       "    </tr>\n",
       "    <tr>\n",
       "      <th>4</th>\n",
       "      <td>4180</td>\n",
       "      <td>தமிழன்  வட இந்தியாவிலும்  கேரளா  ஆந்திரா  கர்ந...</td>\n",
       "      <td>0</td>\n",
       "    </tr>\n",
       "  </tbody>\n",
       "</table>\n",
       "</div>"
      ],
      "text/plain": [
       "     id                                               text  label\n",
       "0   650                 HOSUR also mini North India bro ,,      0\n",
       "1  2397   @rajaa9979  வணிகர் சங்கங்களின் தலைமை தமிழரிடத...      0\n",
       "2  1174             Already Telangana becomes Hindi belt 🥺      0\n",
       "3  5851  வட மாநிலத்தொழிளார் தமிழ்நாட்டினரரை தாக்கினால் ...      0\n",
       "4  4180  தமிழன்  வட இந்தியாவிலும்  கேரளா  ஆந்திரா  கர்ந...      0"
      ]
     },
     "execution_count": 4,
     "metadata": {},
     "output_type": "execute_result"
    }
   ],
   "source": [
    "dev = pd.read_csv(data_dir_1+'/dev.csv')\n",
    "dev.head()"
   ]
  },
  {
   "cell_type": "code",
   "execution_count": 5,
   "metadata": {},
   "outputs": [
    {
     "data": {
      "text/html": [
       "<div>\n",
       "<style scoped>\n",
       "    .dataframe tbody tr th:only-of-type {\n",
       "        vertical-align: middle;\n",
       "    }\n",
       "\n",
       "    .dataframe tbody tr th {\n",
       "        vertical-align: top;\n",
       "    }\n",
       "\n",
       "    .dataframe thead th {\n",
       "        text-align: right;\n",
       "    }\n",
       "</style>\n",
       "<table border=\"1\" class=\"dataframe\">\n",
       "  <thead>\n",
       "    <tr style=\"text-align: right;\">\n",
       "      <th></th>\n",
       "      <th>id</th>\n",
       "      <th>text</th>\n",
       "    </tr>\n",
       "  </thead>\n",
       "  <tbody>\n",
       "    <tr>\n",
       "      <th>0</th>\n",
       "      <td>4594</td>\n",
       "      <td>Humanity paatha intha slag countries prblm var...</td>\n",
       "    </tr>\n",
       "    <tr>\n",
       "      <th>1</th>\n",
       "      <td>3593</td>\n",
       "      <td>Avanga Holi kondada oruku poranga da</td>\n",
       "    </tr>\n",
       "    <tr>\n",
       "      <th>2</th>\n",
       "      <td>2533</td>\n",
       "      <td>Avangala avanga ooruke anupura vazhiya parunga.</td>\n",
       "    </tr>\n",
       "    <tr>\n",
       "      <th>3</th>\n",
       "      <td>6975</td>\n",
       "      <td>பைத்தியமாடா நீ.. நான் சோழிய வேளாளர். நான் என் ...</td>\n",
       "    </tr>\n",
       "    <tr>\n",
       "      <th>4</th>\n",
       "      <td>6011</td>\n",
       "      <td>Caste is there  parayan think to marry higheru...</td>\n",
       "    </tr>\n",
       "  </tbody>\n",
       "</table>\n",
       "</div>"
      ],
      "text/plain": [
       "     id                                               text\n",
       "0  4594  Humanity paatha intha slag countries prblm var...\n",
       "1  3593               Avanga Holi kondada oruku poranga da\n",
       "2  2533    Avangala avanga ooruke anupura vazhiya parunga.\n",
       "3  6975  பைத்தியமாடா நீ.. நான் சோழிய வேளாளர். நான் என் ...\n",
       "4  6011  Caste is there  parayan think to marry higheru..."
      ]
     },
     "execution_count": 5,
     "metadata": {},
     "output_type": "execute_result"
    }
   ],
   "source": [
    "test = pd.read_csv(data_dir_1+'/test.csv')\n",
    "test.head()"
   ]
  },
  {
   "cell_type": "code",
   "execution_count": 6,
   "metadata": {},
   "outputs": [],
   "source": [
    "def preprocess(text):\n",
    "\n",
    "    text = text.replace('\\n', ' ')\n",
    "    text = emoji.demojize(text, delimiters=(\" :\", \": \"))\n",
    "    text = re.sub(r'http[s]?://[a-zA-Z0-9./_-]+|www\\.[a-zA-Z0-9./_-]+', '', text)\n",
    "    text = re.sub(r'\\s+', ' ', text).strip()\n",
    "    text = text.lower().strip()\n",
    "\n",
    "    return text"
   ]
  },
  {
   "cell_type": "code",
   "execution_count": 7,
   "metadata": {},
   "outputs": [],
   "source": [
    "for i in range(len(train['text'])):\n",
    "    train.loc[i, 'text'] = preprocess(train.loc[i, 'text'])\n",
    "\n",
    "for i in range(len(dev['text'])):\n",
    "    dev.loc[i, 'text'] = preprocess(dev.loc[i, 'text'])\n",
    "\n",
    "for i in range(len(test['text'])):\n",
    "    test.loc[i, 'text'] = preprocess(test.loc[i, 'text'])"
   ]
  },
  {
   "cell_type": "code",
   "execution_count": 8,
   "metadata": {},
   "outputs": [
    {
     "data": {
      "text/html": [
       "<div>\n",
       "<style scoped>\n",
       "    .dataframe tbody tr th:only-of-type {\n",
       "        vertical-align: middle;\n",
       "    }\n",
       "\n",
       "    .dataframe tbody tr th {\n",
       "        vertical-align: top;\n",
       "    }\n",
       "\n",
       "    .dataframe thead th {\n",
       "        text-align: right;\n",
       "    }\n",
       "</style>\n",
       "<table border=\"1\" class=\"dataframe\">\n",
       "  <thead>\n",
       "    <tr style=\"text-align: right;\">\n",
       "      <th></th>\n",
       "      <th>id</th>\n",
       "      <th>text</th>\n",
       "    </tr>\n",
       "  </thead>\n",
       "  <tbody>\n",
       "    <tr>\n",
       "      <th>0</th>\n",
       "      <td>4594</td>\n",
       "      <td>humanity paatha intha slag countries prblm var...</td>\n",
       "    </tr>\n",
       "    <tr>\n",
       "      <th>1</th>\n",
       "      <td>3593</td>\n",
       "      <td>avanga holi kondada oruku poranga da</td>\n",
       "    </tr>\n",
       "    <tr>\n",
       "      <th>2</th>\n",
       "      <td>2533</td>\n",
       "      <td>avangala avanga ooruke anupura vazhiya parunga.</td>\n",
       "    </tr>\n",
       "    <tr>\n",
       "      <th>3</th>\n",
       "      <td>6975</td>\n",
       "      <td>பைத்தியமாடா நீ.. நான் சோழிய வேளாளர். நான் என் ...</td>\n",
       "    </tr>\n",
       "    <tr>\n",
       "      <th>4</th>\n",
       "      <td>6011</td>\n",
       "      <td>caste is there parayan think to marry higherup...</td>\n",
       "    </tr>\n",
       "  </tbody>\n",
       "</table>\n",
       "</div>"
      ],
      "text/plain": [
       "     id                                               text\n",
       "0  4594  humanity paatha intha slag countries prblm var...\n",
       "1  3593               avanga holi kondada oruku poranga da\n",
       "2  2533    avangala avanga ooruke anupura vazhiya parunga.\n",
       "3  6975  பைத்தியமாடா நீ.. நான் சோழிய வேளாளர். நான் என் ...\n",
       "4  6011  caste is there parayan think to marry higherup..."
      ]
     },
     "execution_count": 8,
     "metadata": {},
     "output_type": "execute_result"
    }
   ],
   "source": [
    "test.head()"
   ]
  },
  {
   "cell_type": "code",
   "execution_count": 9,
   "metadata": {},
   "outputs": [],
   "source": [
    "train.to_csv(data_dir_2+'/train_processed.csv', index=False)\n",
    "dev.to_csv(data_dir_2+'/dev_processed.csv', index=False)\n",
    "test.to_csv(data_dir_2+'/test_processed.csv', index=False)"
   ]
  }
 ],
 "metadata": {
  "kernelspec": {
   "display_name": "TorchEnv2",
   "language": "python",
   "name": "python3"
  },
  "language_info": {
   "codemirror_mode": {
    "name": "ipython",
    "version": 3
   },
   "file_extension": ".py",
   "mimetype": "text/x-python",
   "name": "python",
   "nbconvert_exporter": "python",
   "pygments_lexer": "ipython3",
   "version": "3.12.9"
  }
 },
 "nbformat": 4,
 "nbformat_minor": 2
}
