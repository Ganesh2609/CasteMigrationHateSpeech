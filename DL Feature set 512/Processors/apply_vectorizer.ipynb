{
 "cells": [
  {
   "cell_type": "code",
   "execution_count": null,
   "metadata": {},
   "outputs": [],
   "source": [
    "import joblib\n",
    "import pandas as pd\n",
    "from sklearn.decomposition import TruncatedSVD"
   ]
  },
  {
   "cell_type": "code",
   "execution_count": null,
   "metadata": {},
   "outputs": [],
   "source": [
    "# Load the TF-IDF vectorizer and the dataset\n",
    "\n",
    "tfidf_vectorizer = joblib.load(\"../Trans data/tfidf_vectorizer_1.pkl\")\n",
    "df_train = pd.read_csv(\"../Trans data/train_processed.csv\")\n",
    "df_test = pd.read_csv(\"../Trans data/test_processed.csv\")\n",
    "df_dev = pd.read_csv(\"../Trans data/dev_processed.csv\")"
   ]
  },
  {
   "cell_type": "code",
   "execution_count": null,
   "metadata": {},
   "outputs": [],
   "source": [
    "# Apply TF-IDF transformation\n",
    "\n",
    "X_train_tfidf = tfidf_vectorizer.transform(df_train[\"text\"])\n",
    "X_test_tfidf = tfidf_vectorizer.transform(df_test[\"text\"])\n",
    "X_dev_tfidf = tfidf_vectorizer.transform(df_dev[\"text\"])"
   ]
  },
  {
   "cell_type": "code",
   "execution_count": null,
   "metadata": {},
   "outputs": [],
   "source": [
    "# Apply Truncated SVD for dimensionality reduction\n",
    "\n",
    "n_components = 2048\n",
    "svd = TruncatedSVD(n_components=n_components, random_state=42)\n",
    "X_train_reduced = svd.fit_transform(X_train_tfidf)\n",
    "X_test_reduced = svd.transform(X_test_tfidf)\n",
    "X_dev_reduced = svd.transform(X_dev_tfidf)"
   ]
  },
  {
   "cell_type": "code",
   "execution_count": null,
   "metadata": {},
   "outputs": [],
   "source": [
    "# Create DataFrame with reduced features\n",
    "\n",
    "feature_names = [f\"f{i+1}\" for i in range(n_components)]\n",
    "\n",
    "df_train_reduced = pd.DataFrame(X_train_reduced, columns=feature_names)\n",
    "df_train_reduced.insert(0, \"id\", df_train[\"id\"])\n",
    "\n",
    "df_test_reduced = pd.DataFrame(X_test_reduced, columns=feature_names)\n",
    "df_test_reduced.insert(0, \"id\", df_test[\"id\"])\n",
    "\n",
    "df_dev_reduced = pd.DataFrame(X_dev_reduced, columns=feature_names)\n",
    "df_dev_reduced.insert(0, \"id\", df_dev[\"id\"])"
   ]
  },
  {
   "cell_type": "code",
   "execution_count": null,
   "metadata": {},
   "outputs": [],
   "source": [
    "df_train_reduced.head()"
   ]
  },
  {
   "cell_type": "code",
   "execution_count": null,
   "metadata": {},
   "outputs": [],
   "source": [
    "# Save to CSV\n",
    "\n",
    "df_train_reduced.to_csv(\"../Trans data/train_features.csv\", index=False)\n",
    "df_test_reduced.to_csv(\"../Trans data/test_features.csv\", index=False)\n",
    "df_dev_reduced.to_csv(\"../Trans data/dev_features.csv\", index=False)"
   ]
  }
 ],
 "metadata": {
  "kernelspec": {
   "display_name": "TorchEnv2",
   "language": "python",
   "name": "python3"
  },
  "language_info": {
   "codemirror_mode": {
    "name": "ipython",
    "version": 3
   },
   "file_extension": ".py",
   "mimetype": "text/x-python",
   "name": "python",
   "nbconvert_exporter": "python",
   "pygments_lexer": "ipython3",
   "version": "3.12.9"
  }
 },
 "nbformat": 4,
 "nbformat_minor": 2
}
