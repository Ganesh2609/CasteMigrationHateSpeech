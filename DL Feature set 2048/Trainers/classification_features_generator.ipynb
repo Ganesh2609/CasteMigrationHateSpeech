{
 "cells": [
  {
   "cell_type": "code",
   "execution_count": 1,
   "metadata": {},
   "outputs": [],
   "source": [
    "import sys\n",
    "sys.path.append('../Models')"
   ]
  },
  {
   "cell_type": "code",
   "execution_count": 2,
   "metadata": {},
   "outputs": [],
   "source": [
    "import os\n",
    "import torch\n",
    "import pandas as pd\n",
    "from google_bert import HateSpeechBERT\n",
    "from transformers import AutoTokenizer\n",
    "from tqdm import tqdm "
   ]
  },
  {
   "cell_type": "code",
   "execution_count": 3,
   "metadata": {},
   "outputs": [],
   "source": [
    "if torch.cuda.is_available():\n",
    "    device = 'cuda'\n",
    "else:\n",
    "    device = 'cpu'"
   ]
  },
  {
   "cell_type": "code",
   "execution_count": 4,
   "metadata": {},
   "outputs": [],
   "source": [
    "save_path = '../Train Data/Results/google bert'\n",
    "os.makedirs(save_path, exist_ok=True)\n",
    "\n",
    "train_processed = pd.read_csv('../Trans data/train_processed.csv')\n",
    "dev_processed = pd.read_csv('../Trans data/dev_processed.csv')\n",
    "test_processed = pd.read_csv('../Trans data/test_processed.csv')\n",
    "\n",
    "train_features = pd.read_csv('../Trans data/train_features.csv')\n",
    "dev_features = pd.read_csv('../Trans data/dev_features.csv')\n",
    "test_features = pd.read_csv('../Trans data/test_features.csv')"
   ]
  },
  {
   "cell_type": "code",
   "execution_count": 5,
   "metadata": {},
   "outputs": [
    {
     "data": {
      "text/plain": [
       "<All keys matched successfully>"
      ]
     },
     "execution_count": 5,
     "metadata": {},
     "output_type": "execute_result"
    }
   ],
   "source": [
    "#tokenizer = AutoTokenizer.from_pretrained(\"seanbenhur/tanglish-offensive-language-identification\")\n",
    "tokenizer = AutoTokenizer.from_pretrained(\"google-bert/bert-large-uncased\")\n",
    "#tokenizer = AutoTokenizer.from_pretrained(\"ai4bharat/IndicBERTv2-MLM-Back-TLM\")\n",
    "#tokenizer = AutoTokenizer.from_pretrained(\"FacebookAI/xlm-roberta-base\")\n",
    "#tokenizer = AutoTokenizer.from_pretrained(\"FacebookAI/xlm-roberta-large\")\n",
    "\n",
    "model = HateSpeechBERT().to(device)\n",
    "check_pt = '../Train Data/Checkpoints/google bert/best_model.pth'\n",
    "model.load_state_dict(torch.load(check_pt, map_location=device)['model_state_dict'])"
   ]
  },
  {
   "cell_type": "code",
   "execution_count": 6,
   "metadata": {},
   "outputs": [
    {
     "name": "stderr",
     "output_type": "stream",
     "text": [
      "Processing Data: 100%|██████████| 5579/5579 [01:29<00:00, 62.34it/s]\n"
     ]
    },
    {
     "name": "stdout",
     "output_type": "stream",
     "text": [
      "8 train samples had a sequence length > 512\n"
     ]
    }
   ],
   "source": [
    "model.eval()\n",
    "feature_dict = {row[\"id\"]: torch.tensor(row[1:].values, dtype=torch.float32, device=device) for _, row in train_features.iterrows()}\n",
    "data_list = []\n",
    "count = 0\n",
    "\n",
    "for i in tqdm(range(len(train_processed)), desc=\"Processing Data\"):\n",
    "\n",
    "    with torch.no_grad():\n",
    "\n",
    "        data_id = train_processed.loc[i,'id']\n",
    "        data_text = train_processed.loc[i,'text']\n",
    "        data_text = tokenizer(data_text, return_tensors='pt', padding=True, return_attention_mask=True, return_token_type_ids=False)\n",
    "        data_label = train_processed.loc[i,'label']\n",
    "        data_features = feature_dict[data_id].unsqueeze(dim=0)\n",
    "\n",
    "        if data_text.input_ids.shape[1] > 512:\n",
    "            count += 1\n",
    "            continue\n",
    "\n",
    "        features, _ = model(input_ids=data_text.input_ids.to(device), attention_mask=data_text.attention_mask.to(device), encodings=data_features)\n",
    "        features = features.squeeze(dim=0).cpu().numpy()\n",
    "\n",
    "        data_list.append([data_id] + features.tolist() + [data_label])\n",
    "\n",
    "columns = ['id'] + [f'f_{i}' for i in range(features.shape[0])] + ['label']\n",
    "train_df = pd.DataFrame(data_list, columns=columns)\n",
    "train_df.to_csv(os.path.join(save_path, 'train_2048_features'), index=False)\n",
    "print(f'{count} train samples had a sequence length > 512')"
   ]
  },
  {
   "cell_type": "code",
   "execution_count": 7,
   "metadata": {},
   "outputs": [
    {
     "name": "stderr",
     "output_type": "stream",
     "text": [
      "Processing Data: 100%|██████████| 787/787 [00:14<00:00, 54.00it/s]\n"
     ]
    },
    {
     "name": "stdout",
     "output_type": "stream",
     "text": [
      "0 dev samples had a sequence length > 512\n"
     ]
    }
   ],
   "source": [
    "model.eval()\n",
    "feature_dict = {row[\"id\"]: torch.tensor(row[1:].values, dtype=torch.float32, device=device) for _, row in dev_features.iterrows()}\n",
    "data_list = []\n",
    "count = 0\n",
    "\n",
    "for i in tqdm(range(len(dev_processed)), desc=\"Processing Data\"):\n",
    "\n",
    "    with torch.no_grad():\n",
    "\n",
    "        data_id = dev_processed.loc[i,'id']\n",
    "        data_text = dev_processed.loc[i,'text']\n",
    "        data_text = tokenizer(data_text, return_tensors='pt', padding=True, return_attention_mask=True, return_token_type_ids=False)\n",
    "        data_label = dev_processed.loc[i,'label']\n",
    "        data_features = feature_dict[data_id].unsqueeze(dim=0)\n",
    "\n",
    "        if data_text.input_ids.shape[1] > 512:\n",
    "            count += 1\n",
    "            continue\n",
    "\n",
    "        features, _ = model(input_ids=data_text.input_ids.to(device), attention_mask=data_text.attention_mask.to(device), encodings=data_features)\n",
    "        features = features.squeeze(dim=0).cpu().numpy()\n",
    "\n",
    "        data_list.append([data_id] + features.tolist() + [data_label])\n",
    "\n",
    "columns = ['id'] + [f'f_{i}' for i in range(features.shape[0])] + ['label']\n",
    "dev_df = pd.DataFrame(data_list, columns=columns)\n",
    "dev_df.to_csv(os.path.join(save_path, 'dev_2048_features'), index=False)\n",
    "print(f'{count} dev samples had a sequence length > 512')"
   ]
  },
  {
   "cell_type": "code",
   "execution_count": 8,
   "metadata": {},
   "outputs": [
    {
     "name": "stderr",
     "output_type": "stream",
     "text": [
      "Processing Data: 100%|██████████| 1576/1576 [00:26<00:00, 59.02it/s]\n"
     ]
    },
    {
     "name": "stdout",
     "output_type": "stream",
     "text": [
      "0 test samples had a sequence length > 512\n"
     ]
    }
   ],
   "source": [
    "model.eval()\n",
    "feature_dict = {row[\"id\"]: torch.tensor(row[1:].values, dtype=torch.float32, device=device) for _, row in test_features.iterrows()}\n",
    "data_list = []\n",
    "count = 0\n",
    "\n",
    "for i in tqdm(range(len(test_processed)), desc=\"Processing Data\"):\n",
    "\n",
    "    with torch.no_grad():\n",
    "\n",
    "        data_id = test_processed.loc[i,'id']\n",
    "        data_text = test_processed.loc[i,'text']\n",
    "        data_text = tokenizer(data_text, return_tensors='pt', padding=True, return_attention_mask=True, return_token_type_ids=False)\n",
    "        data_features = feature_dict[data_id].unsqueeze(dim=0)\n",
    "\n",
    "        if data_text.input_ids.shape[1] > 512:\n",
    "            count += 1\n",
    "            continue\n",
    "\n",
    "        features, _ = model(input_ids=data_text.input_ids.to(device), attention_mask=data_text.attention_mask.to(device), encodings=data_features)\n",
    "        features = features.squeeze(dim=0).cpu().numpy()\n",
    "\n",
    "        data_list.append([data_id] + features.tolist())\n",
    "\n",
    "columns = ['id'] + [f'f_{i}' for i in range(features.shape[0])]\n",
    "test_df = pd.DataFrame(data_list, columns=columns)\n",
    "test_df.to_csv(os.path.join(save_path, 'test_2048_features'), index=False)\n",
    "print(f'{count} test samples had a sequence length > 512')"
   ]
  }
 ],
 "metadata": {
  "kernelspec": {
   "display_name": "TorchEnv2",
   "language": "python",
   "name": "python3"
  },
  "language_info": {
   "codemirror_mode": {
    "name": "ipython",
    "version": 3
   },
   "file_extension": ".py",
   "mimetype": "text/x-python",
   "name": "python",
   "nbconvert_exporter": "python",
   "pygments_lexer": "ipython3",
   "version": "3.12.9"
  }
 },
 "nbformat": 4,
 "nbformat_minor": 2
}
