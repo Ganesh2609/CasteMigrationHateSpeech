{
 "cells": [
  {
   "cell_type": "code",
   "execution_count": 33,
   "metadata": {},
   "outputs": [],
   "source": [
    "import warnings\n",
    "warnings.filterwarnings('ignore')"
   ]
  },
  {
   "cell_type": "markdown",
   "metadata": {},
   "source": [
    "# Creating the best TF-IDF Vectorizer"
   ]
  },
  {
   "cell_type": "code",
   "execution_count": 34,
   "metadata": {},
   "outputs": [],
   "source": [
    "import pandas as pd\n",
    "import joblib\n",
    "from sklearn.feature_extraction.text import TfidfVectorizer\n",
    "from sklearn.model_selection import GridSearchCV\n",
    "from sklearn.pipeline import Pipeline"
   ]
  },
  {
   "cell_type": "code",
   "execution_count": 35,
   "metadata": {},
   "outputs": [
    {
     "data": {
      "text/html": [
       "<div>\n",
       "<style scoped>\n",
       "    .dataframe tbody tr th:only-of-type {\n",
       "        vertical-align: middle;\n",
       "    }\n",
       "\n",
       "    .dataframe tbody tr th {\n",
       "        vertical-align: top;\n",
       "    }\n",
       "\n",
       "    .dataframe thead th {\n",
       "        text-align: right;\n",
       "    }\n",
       "</style>\n",
       "<table border=\"1\" class=\"dataframe\">\n",
       "  <thead>\n",
       "    <tr style=\"text-align: right;\">\n",
       "      <th></th>\n",
       "      <th>id</th>\n",
       "      <th>text</th>\n",
       "      <th>label</th>\n",
       "    </tr>\n",
       "  </thead>\n",
       "  <tbody>\n",
       "    <tr>\n",
       "      <th>0</th>\n",
       "      <td>3268</td>\n",
       "      <td>indha ariya kandupidippin moolam neenga solla ...</td>\n",
       "      <td>0</td>\n",
       "    </tr>\n",
       "    <tr>\n",
       "      <th>1</th>\n",
       "      <td>6239</td>\n",
       "      <td>@vijayakumarp7959 unmai therincha nee pesu</td>\n",
       "      <td>0</td>\n",
       "    </tr>\n",
       "    <tr>\n",
       "      <th>2</th>\n",
       "      <td>5859</td>\n",
       "      <td>inga erukka yella dev... boys vadakkan vadakka...</td>\n",
       "      <td>1</td>\n",
       "    </tr>\n",
       "    <tr>\n",
       "      <th>3</th>\n",
       "      <td>3519</td>\n",
       "      <td>பீகாரி பிரசாந்த் கிஷோரிடம் கொடுத்த 350 கோடியை ...</td>\n",
       "      <td>1</td>\n",
       "    </tr>\n",
       "    <tr>\n",
       "      <th>4</th>\n",
       "      <td>5136</td>\n",
       "      <td>mumbai bangalore la 80% percentage outsiders</td>\n",
       "      <td>1</td>\n",
       "    </tr>\n",
       "  </tbody>\n",
       "</table>\n",
       "</div>"
      ],
      "text/plain": [
       "     id                                               text  label\n",
       "0  3268  indha ariya kandupidippin moolam neenga solla ...      0\n",
       "1  6239         @vijayakumarp7959 unmai therincha nee pesu      0\n",
       "2  5859  inga erukka yella dev... boys vadakkan vadakka...      1\n",
       "3  3519  பீகாரி பிரசாந்த் கிஷோரிடம் கொடுத்த 350 கோடியை ...      1\n",
       "4  5136       mumbai bangalore la 80% percentage outsiders      1"
      ]
     },
     "execution_count": 35,
     "metadata": {},
     "output_type": "execute_result"
    }
   ],
   "source": [
    "# Load the train dataset\n",
    "\n",
    "train_df = pd.read_csv(\"../No trans data/train_processed.csv\")\n",
    "train_df.head()"
   ]
  },
  {
   "cell_type": "code",
   "execution_count": 36,
   "metadata": {},
   "outputs": [
    {
     "name": "stdout",
     "output_type": "stream",
     "text": [
      "Best TF-IDF Parameters: {'tfidf__max_df': 0.5, 'tfidf__min_df': 1, 'tfidf__ngram_range': (1, 1), 'tfidf__smooth_idf': True, 'tfidf__stop_words': 'english', 'tfidf__sublinear_tf': True, 'tfidf__use_idf': True}\n"
     ]
    }
   ],
   "source": [
    "# Define parameter grid for TF-IDF\n",
    "\n",
    "param_grid = {\n",
    "    'tfidf__ngram_range': [(1, 1), (1, 2), (1, 3)],  # Unigrams, Bigrams, Trigrams\n",
    "    'tfidf__max_df': [0.5, 0.75, 1.0],  # Lower values remove frequent words\n",
    "    'tfidf__min_df': [1, 2, 5],  # Higher values remove rare words\n",
    "    'tfidf__stop_words': ['english', None],  # With and without stopword removal\n",
    "    'tfidf__smooth_idf': [True, False],  # Apply IDF smoothing\n",
    "    'tfidf__sublinear_tf': [True, False],  # Use log(tf) scaling\n",
    "    'tfidf__use_idf': [True, False]  # With and without IDF weighting\n",
    "}\n",
    "\n",
    "pipeline = Pipeline([\n",
    "    ('tfidf', TfidfVectorizer())\n",
    "])\n",
    "\n",
    "grid_search = GridSearchCV(pipeline, param_grid, cv=5, scoring='f1_macro', n_jobs=12)\n",
    "grid_search.fit(train_df['text'], train_df['label'])\n",
    "best_tfidf = grid_search.best_estimator_.named_steps['tfidf']\n",
    "\n",
    "print(\"Best TF-IDF Parameters:\", grid_search.best_params_)"
   ]
  },
  {
   "cell_type": "code",
   "execution_count": 37,
   "metadata": {},
   "outputs": [
    {
     "name": "stdout",
     "output_type": "stream",
     "text": [
      "TF-IDF model saved successfully.\n"
     ]
    }
   ],
   "source": [
    "# Save the best TF-IDF model\n",
    "\n",
    "joblib.dump(best_tfidf, \"../No trans data/tfidf_vectorizer_2.pkl\")\n",
    "print(\"TF-IDF model saved successfully.\")"
   ]
  }
 ],
 "metadata": {
  "kernelspec": {
   "display_name": "TorchEnv2",
   "language": "python",
   "name": "python3"
  },
  "language_info": {
   "codemirror_mode": {
    "name": "ipython",
    "version": 3
   },
   "file_extension": ".py",
   "mimetype": "text/x-python",
   "name": "python",
   "nbconvert_exporter": "python",
   "pygments_lexer": "ipython3",
   "version": "3.12.9"
  }
 },
 "nbformat": 4,
 "nbformat_minor": 2
}
